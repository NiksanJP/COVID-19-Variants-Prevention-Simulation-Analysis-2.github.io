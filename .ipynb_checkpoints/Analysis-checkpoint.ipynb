{
 "cells": [
  {
   "cell_type": "code",
   "execution_count": 1,
   "metadata": {},
   "outputs": [],
   "source": [
    "import numpy as np\n",
    "import matplotlib.pyplot as plt\n",
    "import matplotlib\n",
    "\n",
    "from matplotlib import animation, rc\n",
    "from IPython.display import HTML\n",
    "import random\n",
    "import pandas as pd\n",
    "\n",
    "#Graph Modules\n",
    "import plotly.io as pio\n",
    "import plotly.express as px\n",
    "import plotly\n",
    "pio.renderers.default = 'iframe_connected'\n",
    "import seaborn as sns"
   ]
  },
  {
   "cell_type": "code",
   "execution_count": 2,
   "metadata": {},
   "outputs": [],
   "source": [
    "%matplotlib inline"
   ]
  },
  {
   "cell_type": "markdown",
   "metadata": {},
   "source": [
    "# Simulation Covid 19"
   ]
  },
  {
   "cell_type": "code",
   "execution_count": 3,
   "metadata": {},
   "outputs": [],
   "source": [
    "defaultY = 200\n",
    "defaultX = 400\n",
    "\n",
    "class Person():\n",
    "    def __init__(self, infected, xPlus, yPlus, boardX = defaultX, boardY = defaultY, borders = None):\n",
    "        self.position = [int(random.uniform(1, boardX)), int(random.uniform(1, boardY))]\n",
    "        \n",
    "        self.rateX = xPlus\n",
    "        self.rateY = yPlus\n",
    "        \n",
    "        self.infected = infected\n",
    "        self.immune = False\n",
    "        \n",
    "        self.xPlus = random.choice([int(random.uniform(2, self.rateX)), int(random.uniform(-int(self.rateX), -2))])\n",
    "        self.yPlus = random.choice([int(random.uniform(2, self.rateY)), int(random.uniform(-int(self.rateY), -2))])\n",
    "        \n",
    "        self.boardX = boardX\n",
    "        self.boardY = boardY\n",
    "        \n",
    "        self.border = borders\n",
    "        # [ [x, y, True], [x, y, False] ]\n",
    "        # True -> Vertical False -> Horizontal\n",
    "        \n",
    "        \n",
    "    def move(self):\n",
    "        #print('before : ', self.position)\n",
    "        self.position = [int(self.position[0] + self.xPlus), int(self.position[1] + self.yPlus)]\n",
    "        #print('after : ', self.position)\n",
    "        \n",
    "        #Hit the Corner\n",
    "        if (self.position[0] + self.xPlus) < 0:\n",
    "            self.xPlus = int(random.uniform(2, self.rateX))\n",
    "        elif (self.position[0] + self.xPlus) >= self.boardX:\n",
    "            self.xPlus = int(random.uniform(-self.rateX, -2))\n",
    "            \n",
    "        if (self.position[1] + self.yPlus) < 0:\n",
    "            self.yPlus = int(random.uniform(2, self.rateY))\n",
    "        elif (self.position[1] + self.yPlus) > self.boardY:\n",
    "            self.yPlus = int(random.uniform(-self.rateY, -2))\n",
    "            \n",
    "        #Hit the Border\n",
    "        if self.border != None:\n",
    "            for b in self.border:\n",
    "                if b[2] == True:\n",
    "                    #Vertical\n",
    "                    if b[1] <= (self.position[1] + self.yPlus) or self.position[1] == b[1] or b[1] == (self.position[1] + self.yPlus):\n",
    "                        self.yPlus = int(random.uniform(2, self.rateY))\n",
    "                    if b[1] >= (self.position[1] + self.yPlus) or self.position[1] == b[1] or b[1] == (self.position[1] + self.yPlus):\n",
    "                        self.yPlus = int(random.uniform(2, self.rateY))\n",
    "                else:\n",
    "                    #Horizontal\n",
    "                    if b[0] <= (self.position[0] + self.xPlus) or self.position[0] == b[0] or b[0] == (self.position[0] + self.xPlus):\n",
    "                        self.xPlus = int(random.uniform(2, self.rateX))\n",
    "                    if b[0] >= (self.position[0] + self.xPlus) or self.position[0] == b[0] or b[0] == (self.position[0] + self.xPlus):\n",
    "                        self.xPlus = int(random.uniform(2, self.rateX))\n",
    "    \n",
    "class Board():\n",
    "    def __init__(self, boardX, boardY, Num, infectionPercentage, perPersonSpeedX, perPersonSpeedY, radius, infectionLength, borders = None):\n",
    "        self.boardSizeX = boardX\n",
    "        self.boardSizeY = boardY\n",
    "        self.infectionPercentage = infectionPercentage\n",
    "        self.radius = radius\n",
    "        self.infectionLength = infectionLength\n",
    "        self.borders = borders\n",
    "        \n",
    "        self.population = []\n",
    "        #Add Infected Person\n",
    "        self.population.append(Person(True, perPersonSpeedX, perPersonSpeedY, self.boardSizeX, self.boardSizeY))\n",
    "        self.population = self.population + [Person(False, int(random.uniform(1, perPersonSpeedX)), int(random.uniform(1, perPersonSpeedY)), self.boardSizeX, self.boardSizeY, self.borders) for i in range(Num-1)]\n",
    "        \n",
    "        self.infected = [0] #Only index values\n",
    "        self.infectedIndexes = [0]\n",
    "        self.infectiousPositions = [self.population[0].position]\n",
    "        self.infectionCount = 1\n",
    "        self.recoveredCount = 0\n",
    "        \n",
    "        self.infectionRecords = [[0,1]]\n",
    "        \n",
    "    def move(self):\n",
    "        for i in range(len(self.population)):\n",
    "            self.population[i].move()\n",
    "            \n",
    "        #Get infectious Positions\n",
    "        self.infectiousPositions = [self.radiusPositionSpread(self.population[personIndex].position) for personIndex in self.infectedIndexes][0]\n",
    "        \n",
    "        #Update Infection\n",
    "        self.infectionRecords = [[infectionData[0], infectionData[1]+0.1] for infectionData in self.infectionRecords]\n",
    "        #most Infection end around 2 weeks so we are going to make many people immune after 2 weeks 40% to be immune after 2 weeks\n",
    "        tempRecords = []\n",
    "        for i in range(len(self.infectionRecords)):\n",
    "            if self.infectionRecords[i][1] > self.infectionLength:\n",
    "                per = random.uniform(0, 1)\n",
    "                if per < 0.4:\n",
    "                    tempRecords.append(self.infectionRecords[i])\n",
    "                else:\n",
    "                    self.population[self.infectionRecords[i][0]].immune = True\n",
    "                    self.recoveredCount += 1\n",
    "            else:\n",
    "                tempRecords.append(self.infectionRecords[i])\n",
    "        self.infectionRecords = tempRecords\n",
    "        \n",
    "        \n",
    "        temp = self.population\n",
    "        \n",
    "        for x in range(len(temp)):\n",
    "            if temp[x].infected == False and temp[x].position in self.infectiousPositions and temp[x].immune == False:\n",
    "                per = random.uniform(0, 1)\n",
    "                if per < self.infectionPercentage:\n",
    "                    self.infectionCount += 1\n",
    "                    self.infectedIndexes.append(x)\n",
    "                    temp[x].infected = True\n",
    "                    self.infectionRecords.append([x,1])\n",
    "            if temp[x].immune == True and temp[x].infected == True:\n",
    "                temp[x].infected == False\n",
    "                    \n",
    "        self.population = temp\n",
    "    \n",
    "    def radiusPositionSpread(self, position):\n",
    "        ans = [position]\n",
    "        for i in range(self.radius):\n",
    "            ans.append([position[0] + i, position[1]])\n",
    "            ans.append([position[0], position[1] + i])\n",
    "            ans.append([position[0] + i, position[1] + i])\n",
    "            \n",
    "            ans.append([position[0] - i, position[1]])\n",
    "            ans.append([position[0], position[1] - i])\n",
    "            ans.append([position[0] - i, position[1] - i])\n",
    "            \n",
    "            ans.append([position[0] + i, position[1] - i])\n",
    "            ans.append([position[0] - i, position[1] + i])\n",
    "        return ans[:]\n",
    "        "
   ]
  },
  {
   "cell_type": "code",
   "execution_count": 4,
   "metadata": {},
   "outputs": [
    {
     "name": "stderr",
     "output_type": "stream",
     "text": [
      "D:\\Anaconda\\envs\\Tensorflow2\\lib\\site-packages\\ipykernel_launcher.py:71: FutureWarning:\n",
      "\n",
      "Sorting because non-concatenation axis is not aligned. A future version\n",
      "of pandas will change to not sort by default.\n",
      "\n",
      "To accept the future behavior, pass 'sort=False'.\n",
      "\n",
      "To retain the current behavior and silence the warning, pass 'sort=True'.\n",
      "\n",
      "\n"
     ]
    }
   ],
   "source": [
    "populationSize = 500\n",
    "InfectionPercentage = 1\n",
    "xSpeedMax = 6\n",
    "ySpeedMax = 8\n",
    "spreadRadius = 10\n",
    "maxFrames = 1000\n",
    "infectionLength = 14\n",
    "\n",
    "\n",
    "def makeData():\n",
    "    board = Board(defaultX, defaultY, populationSize, InfectionPercentage, xSpeedMax, ySpeedMax, spreadRadius, infectionLength)\n",
    "    df = pd.DataFrame(columns=['frame', 'x', 'y', 'color', 'totalInfected'])\n",
    "    \n",
    "    for frame in range(maxFrames):\n",
    "        board.move()\n",
    "        \n",
    "        xValue = []\n",
    "        yValue = []\n",
    "        color = []\n",
    "        pID = []\n",
    "        personType = []\n",
    "        \n",
    "        for personID in range(len(board.population)):\n",
    "            if board.population[personID].immune == True:\n",
    "                xValue.append(board.population[personID].position[0])\n",
    "                yValue.append(board.population[personID].position[1])\n",
    "                color.append('green')\n",
    "                pID.append(personID)\n",
    "                personType.append('Immune')\n",
    "            elif board.population[personID].infected == True:\n",
    "                xValue.append(board.population[personID].position[0])\n",
    "                yValue.append(board.population[personID].position[1])\n",
    "                color.append('red')\n",
    "                pID.append(personID)\n",
    "                personType.append('Infecious')\n",
    "            else:\n",
    "                xValue.append(board.population[personID].position[0])\n",
    "                yValue.append(board.population[personID].position[1])\n",
    "                color.append('blue')\n",
    "                pID.append(personID)\n",
    "                personType.append('Normal')\n",
    "        \n",
    "        \n",
    "        \n",
    "        tempDF_UnInfected = pd.DataFrame({\n",
    "            'frame': frame,\n",
    "            'id':pID,\n",
    "            'x': xValue,\n",
    "            'y': yValue,\n",
    "            'color': color,\n",
    "            'totalInfected': board.infectionCount,\n",
    "            'Recovered': board.recoveredCount,\n",
    "            'Type': personType\n",
    "        })\n",
    "        \n",
    "        #Add Immune People Before hand\n",
    "        tempDF_UnInfected = tempDF_UnInfected.append({\n",
    "            'frame': frame,\n",
    "            'id':len(pID),\n",
    "            'x': 10000,\n",
    "            'y': 10000,\n",
    "            'color': 'green',\n",
    "            'totalInfected': board.infectionCount,\n",
    "            'Recovered': board.recoveredCount,\n",
    "            'Type': 'Immune'\n",
    "        }, ignore_index = True)\n",
    "        \n",
    "        tempDF_UnInfected = tempDF_UnInfected.sort_values(['id'])\n",
    "        \n",
    "        \n",
    "        df = pd.concat([df, tempDF_UnInfected])\n",
    "    return df\n",
    "\n",
    "data = makeData()\n",
    "data.to_csv('data/simulation1.csv')"
   ]
  },
  {
   "cell_type": "code",
   "execution_count": 5,
   "metadata": {},
   "outputs": [
    {
     "data": {
      "text/html": [
       "<iframe\n",
       "    scrolling=\"no\"\n",
       "    width=\"100%\"\n",
       "    height=\"620\"\n",
       "    src=\"iframe_figures/figure_5.html\"\n",
       "    frameborder=\"0\"\n",
       "    allowfullscreen\n",
       "></iframe>\n"
      ]
     },
     "metadata": {},
     "output_type": "display_data"
    }
   ],
   "source": [
    "fig = px.scatter(data, x = 'x', y = 'y', animation_frame='frame', animation_group = 'id', color='Type', range_x=[0,defaultX], range_y=[0, defaultY], title='Infections over 10 days')\n",
    "fig.show()"
   ]
  },
  {
   "cell_type": "code",
   "execution_count": 6,
   "metadata": {},
   "outputs": [
    {
     "data": {
      "text/html": [
       "<iframe\n",
       "    scrolling=\"no\"\n",
       "    width=\"100%\"\n",
       "    height=\"620\"\n",
       "    src=\"iframe_figures/figure_6.html\"\n",
       "    frameborder=\"0\"\n",
       "    allowfullscreen\n",
       "></iframe>\n"
      ]
     },
     "metadata": {},
     "output_type": "display_data"
    }
   ],
   "source": [
    "fig_infections = px.area(data, x='frame', y='totalInfected')\n",
    "fig_infections.show()"
   ]
  },
  {
   "cell_type": "code",
   "execution_count": 7,
   "metadata": {},
   "outputs": [
    {
     "data": {
      "text/html": [
       "<iframe\n",
       "    scrolling=\"no\"\n",
       "    width=\"100%\"\n",
       "    height=\"620\"\n",
       "    src=\"iframe_figures/figure_7.html\"\n",
       "    frameborder=\"0\"\n",
       "    allowfullscreen\n",
       "></iframe>\n"
      ]
     },
     "metadata": {},
     "output_type": "display_data"
    }
   ],
   "source": [
    "fig_recovered = px.area(data, x='frame', y='Recovered')\n",
    "fig_recovered.show()"
   ]
  },
  {
   "cell_type": "markdown",
   "metadata": {},
   "source": [
    "## Covid-19 Simulation with Population Density Comparison"
   ]
  },
  {
   "cell_type": "markdown",
   "metadata": {},
   "source": [
    "### Dense Population with No social distance"
   ]
  },
  {
   "cell_type": "code",
   "execution_count": 8,
   "metadata": {},
   "outputs": [
    {
     "name": "stderr",
     "output_type": "stream",
     "text": [
      "D:\\Anaconda\\envs\\Tensorflow2\\lib\\site-packages\\ipykernel_launcher.py:76: FutureWarning:\n",
      "\n",
      "Sorting because non-concatenation axis is not aligned. A future version\n",
      "of pandas will change to not sort by default.\n",
      "\n",
      "To accept the future behavior, pass 'sort=False'.\n",
      "\n",
      "To retain the current behavior and silence the warning, pass 'sort=True'.\n",
      "\n",
      "\n"
     ]
    }
   ],
   "source": [
    "populationSize = 500\n",
    "InfectionPercentage = 1\n",
    "xSpeedMax = 6\n",
    "ySpeedMax = 8\n",
    "spreadRadius = 10\n",
    "maxFrames = 1000\n",
    "infectionLength = 14\n",
    "border = [[200, 0, True]]\n",
    "\n",
    "xValue = 100\n",
    "yValue = 200\n",
    "\n",
    "def makeData_Border():\n",
    "    xValue = 100\n",
    "    yValue = 200\n",
    "    board = Board(xValue, yValue, populationSize, InfectionPercentage, xSpeedMax, ySpeedMax, spreadRadius, infectionLength, None)\n",
    "    df = pd.DataFrame(columns=['frame', 'x', 'y', 'color', 'totalInfected'])\n",
    "    \n",
    "    for frame in range(maxFrames):\n",
    "        board.move()\n",
    "        \n",
    "        xValue = []\n",
    "        yValue = []\n",
    "        color = []\n",
    "        pID = []\n",
    "        personType = []\n",
    "        \n",
    "        for personID in range(len(board.population)):\n",
    "            if board.population[personID].immune == True:\n",
    "                xValue.append(board.population[personID].position[0])\n",
    "                yValue.append(board.population[personID].position[1])\n",
    "                color.append('green')\n",
    "                pID.append(personID)\n",
    "                personType.append('Immune')\n",
    "            elif board.population[personID].infected == True:\n",
    "                xValue.append(board.population[personID].position[0])\n",
    "                yValue.append(board.population[personID].position[1])\n",
    "                color.append('red')\n",
    "                pID.append(personID)\n",
    "                personType.append('Infecious')\n",
    "            else:\n",
    "                xValue.append(board.population[personID].position[0])\n",
    "                yValue.append(board.population[personID].position[1])\n",
    "                color.append('blue')\n",
    "                pID.append(personID)\n",
    "                personType.append('Normal')\n",
    "        \n",
    "        \n",
    "        \n",
    "        tempDF_UnInfected = pd.DataFrame({\n",
    "            'frame': frame,\n",
    "            'id':pID,\n",
    "            'x': xValue,\n",
    "            'y': yValue,\n",
    "            'color': color,\n",
    "            'totalInfected': board.infectionCount,\n",
    "            'Recovered': board.recoveredCount,\n",
    "            'Type': personType\n",
    "        })\n",
    "        \n",
    "        #Add Immune People Before hand\n",
    "        tempDF_UnInfected = tempDF_UnInfected.append({\n",
    "            'frame': frame,\n",
    "            'id':len(pID),\n",
    "            'x': 1000,\n",
    "            'y': 1000,\n",
    "            'color': 'green',\n",
    "            'totalInfected': board.infectionCount,\n",
    "            'Recovered': board.recoveredCount,\n",
    "            'Type': 'Immune'\n",
    "        }, ignore_index = True)\n",
    "        \n",
    "        tempDF_UnInfected = tempDF_UnInfected.sort_values(['id'])\n",
    "        \n",
    "        \n",
    "        df = pd.concat([df, tempDF_UnInfected])\n",
    "    return df\n",
    "\n",
    "data_border = makeData_Border()\n",
    "data_border.to_csv('data/simulation1_smallBorder.csv')"
   ]
  },
  {
   "cell_type": "code",
   "execution_count": 9,
   "metadata": {},
   "outputs": [
    {
     "data": {
      "text/html": [
       "<iframe\n",
       "    scrolling=\"no\"\n",
       "    width=\"100%\"\n",
       "    height=\"620\"\n",
       "    src=\"iframe_figures/figure_9.html\"\n",
       "    frameborder=\"0\"\n",
       "    allowfullscreen\n",
       "></iframe>\n"
      ]
     },
     "metadata": {},
     "output_type": "display_data"
    }
   ],
   "source": [
    "fig_Dense = px.scatter(data_border, x = 'x', y = 'y', animation_frame='frame', animation_group = 'id', color='Type', range_x=[0,xValue], range_y=[0, yValue], title='Infections over 10 days for Dense Population')\n",
    "fig_Dense.show()"
   ]
  },
  {
   "cell_type": "code",
   "execution_count": 10,
   "metadata": {},
   "outputs": [
    {
     "data": {
      "text/html": [
       "<iframe\n",
       "    scrolling=\"no\"\n",
       "    width=\"100%\"\n",
       "    height=\"620\"\n",
       "    src=\"iframe_figures/figure_10.html\"\n",
       "    frameborder=\"0\"\n",
       "    allowfullscreen\n",
       "></iframe>\n"
      ]
     },
     "metadata": {},
     "output_type": "display_data"
    }
   ],
   "source": [
    "fig_infections_dense = px.area(data_border, x='frame', y='totalInfected')\n",
    "fig_infections_dense.show()"
   ]
  },
  {
   "cell_type": "markdown",
   "metadata": {},
   "source": [
    "### For not Dense Population and socialy distanced"
   ]
  },
  {
   "cell_type": "code",
   "execution_count": 11,
   "metadata": {},
   "outputs": [
    {
     "name": "stderr",
     "output_type": "stream",
     "text": [
      "D:\\Anaconda\\envs\\Tensorflow2\\lib\\site-packages\\ipykernel_launcher.py:76: FutureWarning:\n",
      "\n",
      "Sorting because non-concatenation axis is not aligned. A future version\n",
      "of pandas will change to not sort by default.\n",
      "\n",
      "To accept the future behavior, pass 'sort=False'.\n",
      "\n",
      "To retain the current behavior and silence the warning, pass 'sort=True'.\n",
      "\n",
      "\n"
     ]
    }
   ],
   "source": [
    "populationSize = 500\n",
    "InfectionPercentage = 1\n",
    "xSpeedMax = 6\n",
    "ySpeedMax = 8\n",
    "spreadRadius = 10\n",
    "maxFrames = 1000\n",
    "infectionLength = 14\n",
    "border = [[200, 0, True]]\n",
    "\n",
    "xValue = 400\n",
    "yValue = 800\n",
    "\n",
    "def makeData_Border():\n",
    "    xValue = 400\n",
    "    yValue = 800\n",
    "    board = Board(xValue, yValue, populationSize, InfectionPercentage, xSpeedMax, ySpeedMax, spreadRadius, infectionLength, None)\n",
    "    df = pd.DataFrame(columns=['frame', 'x', 'y', 'color', 'totalInfected'])\n",
    "    \n",
    "    for frame in range(maxFrames):\n",
    "        board.move()\n",
    "        \n",
    "        xValue = []\n",
    "        yValue = []\n",
    "        color = []\n",
    "        pID = []\n",
    "        personType = []\n",
    "        \n",
    "        for personID in range(len(board.population)):\n",
    "            if board.population[personID].immune == True:\n",
    "                xValue.append(board.population[personID].position[0])\n",
    "                yValue.append(board.population[personID].position[1])\n",
    "                color.append('green')\n",
    "                pID.append(personID)\n",
    "                personType.append('Immune')\n",
    "            elif board.population[personID].infected == True:\n",
    "                xValue.append(board.population[personID].position[0])\n",
    "                yValue.append(board.population[personID].position[1])\n",
    "                color.append('red')\n",
    "                pID.append(personID)\n",
    "                personType.append('Infecious')\n",
    "            else:\n",
    "                xValue.append(board.population[personID].position[0])\n",
    "                yValue.append(board.population[personID].position[1])\n",
    "                color.append('blue')\n",
    "                pID.append(personID)\n",
    "                personType.append('Normal')\n",
    "        \n",
    "        \n",
    "        \n",
    "        tempDF_UnInfected = pd.DataFrame({\n",
    "            'frame': frame,\n",
    "            'id':pID,\n",
    "            'x': xValue,\n",
    "            'y': yValue,\n",
    "            'color': color,\n",
    "            'totalInfected': board.infectionCount,\n",
    "            'Recovered': board.recoveredCount,\n",
    "            'Type': personType\n",
    "        })\n",
    "        \n",
    "        #Add Immune People Before hand\n",
    "        tempDF_UnInfected = tempDF_UnInfected.append({\n",
    "            'frame': frame,\n",
    "            'id':len(pID),\n",
    "            'x': 1000,\n",
    "            'y': 1000,\n",
    "            'color': 'green',\n",
    "            'totalInfected': board.infectionCount,\n",
    "            'Recovered': board.recoveredCount,\n",
    "            'Type': 'Immune'\n",
    "        }, ignore_index = True)\n",
    "        \n",
    "        tempDF_UnInfected = tempDF_UnInfected.sort_values(['id'])\n",
    "        \n",
    "        \n",
    "        df = pd.concat([df, tempDF_UnInfected])\n",
    "    return df\n",
    "\n",
    "data_border_notDense = makeData_Border()\n",
    "data_border_notDense.to_csv('data/simulation1_largeBorder.csv')"
   ]
  },
  {
   "cell_type": "code",
   "execution_count": 12,
   "metadata": {},
   "outputs": [
    {
     "data": {
      "text/html": [
       "<iframe\n",
       "    scrolling=\"no\"\n",
       "    width=\"100%\"\n",
       "    height=\"620\"\n",
       "    src=\"iframe_figures/figure_12.html\"\n",
       "    frameborder=\"0\"\n",
       "    allowfullscreen\n",
       "></iframe>\n"
      ]
     },
     "metadata": {},
     "output_type": "display_data"
    }
   ],
   "source": [
    "fig_notDense = px.scatter(data_border_notDense, x = 'x', y = 'y', animation_frame='frame', animation_group = 'id', color='Type', range_x=[0,xValue], range_y=[0, yValue], title='Infections over 10 days for Dense Population')\n",
    "fig_notDense.show()"
   ]
  },
  {
   "cell_type": "code",
   "execution_count": 13,
   "metadata": {},
   "outputs": [
    {
     "data": {
      "text/html": [
       "<iframe\n",
       "    scrolling=\"no\"\n",
       "    width=\"100%\"\n",
       "    height=\"620\"\n",
       "    src=\"iframe_figures/figure_13.html\"\n",
       "    frameborder=\"0\"\n",
       "    allowfullscreen\n",
       "></iframe>\n"
      ]
     },
     "metadata": {},
     "output_type": "display_data"
    }
   ],
   "source": [
    "fig_infections_notDense = px.area(data_border_notDense, x='frame', y='totalInfected')\n",
    "fig_infections_notDense.show()"
   ]
  },
  {
   "cell_type": "markdown",
   "metadata": {},
   "source": [
    "## Comparing the spread of covid-19 with density of Population\n",
    "\n",
    "Density Data: https://www.kaggle.com/tanuprabhu/population-by-country-2020\n",
    "\n",
    "Covid-19: https://ourworldindata.org/coronavirus-source-data\n",
    "\n",
    "ISO codes: https://www.kaggle.com/juanumusic/countries-iso-codes"
   ]
  },
  {
   "cell_type": "code",
   "execution_count": 28,
   "metadata": {},
   "outputs": [
    {
     "name": "stdout",
     "output_type": "stream",
     "text": [
      "(205, 12)\n"
     ]
    },
    {
     "data": {
      "text/html": [
       "<div>\n",
       "<style scoped>\n",
       "    .dataframe tbody tr th:only-of-type {\n",
       "        vertical-align: middle;\n",
       "    }\n",
       "\n",
       "    .dataframe tbody tr th {\n",
       "        vertical-align: top;\n",
       "    }\n",
       "\n",
       "    .dataframe thead th {\n",
       "        text-align: right;\n",
       "    }\n",
       "</style>\n",
       "<table border=\"1\" class=\"dataframe\">\n",
       "  <thead>\n",
       "    <tr style=\"text-align: right;\">\n",
       "      <th></th>\n",
       "      <th>Country</th>\n",
       "      <th>Population (2020)</th>\n",
       "      <th>Yearly Change</th>\n",
       "      <th>Net Change</th>\n",
       "      <th>Density (P/Km)</th>\n",
       "      <th>Land Area (Km)</th>\n",
       "      <th>Migrants (net)</th>\n",
       "      <th>Fert. Rate</th>\n",
       "      <th>Med. Age</th>\n",
       "      <th>Urban Pop %</th>\n",
       "      <th>World Share</th>\n",
       "      <th>Country_ISO</th>\n",
       "    </tr>\n",
       "  </thead>\n",
       "  <tbody>\n",
       "    <tr>\n",
       "      <td>0</td>\n",
       "      <td>China</td>\n",
       "      <td>1440297825</td>\n",
       "      <td>0.39%</td>\n",
       "      <td>5540090</td>\n",
       "      <td>153</td>\n",
       "      <td>9388211</td>\n",
       "      <td>-348399.0</td>\n",
       "      <td>1.7</td>\n",
       "      <td>38</td>\n",
       "      <td>61%</td>\n",
       "      <td>18.47%</td>\n",
       "      <td>CHN</td>\n",
       "    </tr>\n",
       "    <tr>\n",
       "      <td>1</td>\n",
       "      <td>India</td>\n",
       "      <td>1382345085</td>\n",
       "      <td>0.99%</td>\n",
       "      <td>13586631</td>\n",
       "      <td>464</td>\n",
       "      <td>2973190</td>\n",
       "      <td>-532687.0</td>\n",
       "      <td>2.2</td>\n",
       "      <td>28</td>\n",
       "      <td>35%</td>\n",
       "      <td>17.70%</td>\n",
       "      <td>IND</td>\n",
       "    </tr>\n",
       "    <tr>\n",
       "      <td>2</td>\n",
       "      <td>United States</td>\n",
       "      <td>331341050</td>\n",
       "      <td>0.59%</td>\n",
       "      <td>1937734</td>\n",
       "      <td>36</td>\n",
       "      <td>9147420</td>\n",
       "      <td>954806.0</td>\n",
       "      <td>1.8</td>\n",
       "      <td>38</td>\n",
       "      <td>83%</td>\n",
       "      <td>4.25%</td>\n",
       "      <td>USA</td>\n",
       "    </tr>\n",
       "    <tr>\n",
       "      <td>3</td>\n",
       "      <td>Indonesia</td>\n",
       "      <td>274021604</td>\n",
       "      <td>1.07%</td>\n",
       "      <td>2898047</td>\n",
       "      <td>151</td>\n",
       "      <td>1811570</td>\n",
       "      <td>-98955.0</td>\n",
       "      <td>2.3</td>\n",
       "      <td>30</td>\n",
       "      <td>56%</td>\n",
       "      <td>3.51%</td>\n",
       "      <td>IDN</td>\n",
       "    </tr>\n",
       "    <tr>\n",
       "      <td>4</td>\n",
       "      <td>Pakistan</td>\n",
       "      <td>221612785</td>\n",
       "      <td>2.00%</td>\n",
       "      <td>4327022</td>\n",
       "      <td>287</td>\n",
       "      <td>770880</td>\n",
       "      <td>-233379.0</td>\n",
       "      <td>3.6</td>\n",
       "      <td>23</td>\n",
       "      <td>35%</td>\n",
       "      <td>2.83%</td>\n",
       "      <td>PAK</td>\n",
       "    </tr>\n",
       "  </tbody>\n",
       "</table>\n",
       "</div>"
      ],
      "text/plain": [
       "         Country  Population (2020) Yearly Change  Net Change  Density (P/Km)  \\\n",
       "0          China         1440297825         0.39%     5540090             153   \n",
       "1          India         1382345085         0.99%    13586631             464   \n",
       "2  United States          331341050         0.59%     1937734              36   \n",
       "3      Indonesia          274021604         1.07%     2898047             151   \n",
       "4       Pakistan          221612785         2.00%     4327022             287   \n",
       "\n",
       "   Land Area (Km)  Migrants (net) Fert. Rate Med. Age Urban Pop % World Share  \\\n",
       "0         9388211       -348399.0        1.7       38         61%      18.47%   \n",
       "1         2973190       -532687.0        2.2       28         35%      17.70%   \n",
       "2         9147420        954806.0        1.8       38         83%       4.25%   \n",
       "3         1811570        -98955.0        2.3       30         56%       3.51%   \n",
       "4          770880       -233379.0        3.6       23         35%       2.83%   \n",
       "\n",
       "  Country_ISO  \n",
       "0         CHN  \n",
       "1         IND  \n",
       "2         USA  \n",
       "3         IDN  \n",
       "4         PAK  "
      ]
     },
     "execution_count": 28,
     "metadata": {},
     "output_type": "execute_result"
    }
   ],
   "source": [
    "isoDF = pd.read_csv('data/wikipedia-iso-country-codes.csv')\n",
    "population_df = pd.read_csv('data/population_by_country_2020.csv')\n",
    "population_df['Country_ISO'] = [isoDF.loc[isoDF['English short name lower case'] == country]['Alpha-3 code'].values[0] for country in population_df['Country']]\n",
    "print(population_df.shape)\n",
    "population_df.head()"
   ]
  },
  {
   "cell_type": "code",
   "execution_count": 29,
   "metadata": {},
   "outputs": [
    {
     "data": {
      "text/html": [
       "<iframe\n",
       "    scrolling=\"no\"\n",
       "    width=\"100%\"\n",
       "    height=\"620\"\n",
       "    src=\"iframe_figures/figure_29.html\"\n",
       "    frameborder=\"0\"\n",
       "    allowfullscreen\n",
       "></iframe>\n"
      ]
     },
     "metadata": {},
     "output_type": "display_data"
    }
   ],
   "source": [
    "population_df_bar = px.bar(population_df.sort_values(\"Density (P/Km)\", ascending=False).head(30), x='Country', y='Density (P/Km)')\n",
    "population_df_bar.show()"
   ]
  },
  {
   "cell_type": "code",
   "execution_count": 30,
   "metadata": {},
   "outputs": [
    {
     "data": {
      "text/html": [
       "<iframe\n",
       "    scrolling=\"no\"\n",
       "    width=\"100%\"\n",
       "    height=\"620\"\n",
       "    src=\"iframe_figures/figure_30.html\"\n",
       "    frameborder=\"0\"\n",
       "    allowfullscreen\n",
       "></iframe>\n"
      ]
     },
     "metadata": {},
     "output_type": "display_data"
    }
   ],
   "source": [
    "fig_Density = px.choropleth(population_df, locations='Country_ISO', color = 'Density (P/Km)', hover_name='Country', color_continuous_scale='Plasma', \n",
    "                            range_color=(0, 400))\n",
    "fig_Density.show()"
   ]
  },
  {
   "cell_type": "code",
   "execution_count": 31,
   "metadata": {},
   "outputs": [
    {
     "data": {
      "text/html": [
       "<div>\n",
       "<style scoped>\n",
       "    .dataframe tbody tr th:only-of-type {\n",
       "        vertical-align: middle;\n",
       "    }\n",
       "\n",
       "    .dataframe tbody tr th {\n",
       "        vertical-align: top;\n",
       "    }\n",
       "\n",
       "    .dataframe thead th {\n",
       "        text-align: right;\n",
       "    }\n",
       "</style>\n",
       "<table border=\"1\" class=\"dataframe\">\n",
       "  <thead>\n",
       "    <tr style=\"text-align: right;\">\n",
       "      <th></th>\n",
       "      <th>iso_code</th>\n",
       "      <th>continent</th>\n",
       "      <th>date</th>\n",
       "      <th>total_cases</th>\n",
       "      <th>new_cases</th>\n",
       "      <th>new_cases_smoothed</th>\n",
       "      <th>total_deaths</th>\n",
       "      <th>new_deaths</th>\n",
       "      <th>new_deaths_smoothed</th>\n",
       "      <th>total_cases_per_million</th>\n",
       "      <th>...</th>\n",
       "      <th>handwashing_facilities</th>\n",
       "      <th>hospital_beds_per_thousand</th>\n",
       "      <th>life_expectancy</th>\n",
       "      <th>human_development_index</th>\n",
       "      <th>Country</th>\n",
       "      <th>English short name lower case</th>\n",
       "      <th>Alpha-2 code</th>\n",
       "      <th>Alpha-3 code</th>\n",
       "      <th>Numeric code</th>\n",
       "      <th>ISO 3166-2</th>\n",
       "    </tr>\n",
       "  </thead>\n",
       "  <tbody>\n",
       "    <tr>\n",
       "      <td>0</td>\n",
       "      <td>AFG</td>\n",
       "      <td>Asia</td>\n",
       "      <td>9/12/2020</td>\n",
       "      <td>57144.0</td>\n",
       "      <td>1485.0</td>\n",
       "      <td>758.571</td>\n",
       "      <td>2521.0</td>\n",
       "      <td>46.0</td>\n",
       "      <td>25.143</td>\n",
       "      <td>1467.928</td>\n",
       "      <td>...</td>\n",
       "      <td>37.746</td>\n",
       "      <td>0.50</td>\n",
       "      <td>64.83</td>\n",
       "      <td>0.511</td>\n",
       "      <td>Afghanistan</td>\n",
       "      <td>Afghanistan</td>\n",
       "      <td>AF</td>\n",
       "      <td>AFG</td>\n",
       "      <td>4.0</td>\n",
       "      <td>ISO 3166-2:AF</td>\n",
       "    </tr>\n",
       "    <tr>\n",
       "      <td>1</td>\n",
       "      <td>ALB</td>\n",
       "      <td>Europe</td>\n",
       "      <td>9/12/2020</td>\n",
       "      <td>128155.0</td>\n",
       "      <td>1239.0</td>\n",
       "      <td>1111.857</td>\n",
       "      <td>2310.0</td>\n",
       "      <td>21.0</td>\n",
       "      <td>20.429</td>\n",
       "      <td>44532.282</td>\n",
       "      <td>...</td>\n",
       "      <td>NaN</td>\n",
       "      <td>2.89</td>\n",
       "      <td>78.57</td>\n",
       "      <td>0.795</td>\n",
       "      <td>Albania</td>\n",
       "      <td>Albania</td>\n",
       "      <td>AL</td>\n",
       "      <td>ALB</td>\n",
       "      <td>8.0</td>\n",
       "      <td>ISO 3166-2:AL</td>\n",
       "    </tr>\n",
       "    <tr>\n",
       "      <td>2</td>\n",
       "      <td>DZA</td>\n",
       "      <td>Africa</td>\n",
       "      <td>9/12/2020</td>\n",
       "      <td>118378.0</td>\n",
       "      <td>1133.0</td>\n",
       "      <td>1065.429</td>\n",
       "      <td>3126.0</td>\n",
       "      <td>30.0</td>\n",
       "      <td>21.571</td>\n",
       "      <td>2699.548</td>\n",
       "      <td>...</td>\n",
       "      <td>83.741</td>\n",
       "      <td>1.90</td>\n",
       "      <td>76.88</td>\n",
       "      <td>0.748</td>\n",
       "      <td>Algeria</td>\n",
       "      <td>Algeria</td>\n",
       "      <td>DZ</td>\n",
       "      <td>DZA</td>\n",
       "      <td>12.0</td>\n",
       "      <td>ISO 3166-2:DZ</td>\n",
       "    </tr>\n",
       "    <tr>\n",
       "      <td>3</td>\n",
       "      <td>AND</td>\n",
       "      <td>Europe</td>\n",
       "      <td>9/12/2020</td>\n",
       "      <td>12497.0</td>\n",
       "      <td>299.0</td>\n",
       "      <td>112.429</td>\n",
       "      <td>120.0</td>\n",
       "      <td>6.0</td>\n",
       "      <td>2.000</td>\n",
       "      <td>161742.057</td>\n",
       "      <td>...</td>\n",
       "      <td>NaN</td>\n",
       "      <td>NaN</td>\n",
       "      <td>83.73</td>\n",
       "      <td>0.868</td>\n",
       "      <td>Andorra</td>\n",
       "      <td>Andorra</td>\n",
       "      <td>AD</td>\n",
       "      <td>AND</td>\n",
       "      <td>20.0</td>\n",
       "      <td>ISO 3166-2:AD</td>\n",
       "    </tr>\n",
       "    <tr>\n",
       "      <td>4</td>\n",
       "      <td>AGO</td>\n",
       "      <td>Africa</td>\n",
       "      <td>9/12/2020</td>\n",
       "      <td>23331.0</td>\n",
       "      <td>355.0</td>\n",
       "      <td>261.857</td>\n",
       "      <td>550.0</td>\n",
       "      <td>12.0</td>\n",
       "      <td>4.571</td>\n",
       "      <td>709.877</td>\n",
       "      <td>...</td>\n",
       "      <td>26.664</td>\n",
       "      <td>NaN</td>\n",
       "      <td>61.15</td>\n",
       "      <td>0.581</td>\n",
       "      <td>Angola</td>\n",
       "      <td>Angola</td>\n",
       "      <td>AO</td>\n",
       "      <td>AGO</td>\n",
       "      <td>24.0</td>\n",
       "      <td>ISO 3166-2:AO</td>\n",
       "    </tr>\n",
       "  </tbody>\n",
       "</table>\n",
       "<p>5 rows × 63 columns</p>\n",
       "</div>"
      ],
      "text/plain": [
       "  iso_code continent       date  total_cases  new_cases  new_cases_smoothed  \\\n",
       "0      AFG      Asia  9/12/2020      57144.0     1485.0             758.571   \n",
       "1      ALB    Europe  9/12/2020     128155.0     1239.0            1111.857   \n",
       "2      DZA    Africa  9/12/2020     118378.0     1133.0            1065.429   \n",
       "3      AND    Europe  9/12/2020      12497.0      299.0             112.429   \n",
       "4      AGO    Africa  9/12/2020      23331.0      355.0             261.857   \n",
       "\n",
       "   total_deaths  new_deaths  new_deaths_smoothed  total_cases_per_million  \\\n",
       "0        2521.0        46.0               25.143                 1467.928   \n",
       "1        2310.0        21.0               20.429                44532.282   \n",
       "2        3126.0        30.0               21.571                 2699.548   \n",
       "3         120.0         6.0                2.000               161742.057   \n",
       "4         550.0        12.0                4.571                  709.877   \n",
       "\n",
       "   ...  handwashing_facilities  hospital_beds_per_thousand  life_expectancy  \\\n",
       "0  ...                  37.746                        0.50            64.83   \n",
       "1  ...                     NaN                        2.89            78.57   \n",
       "2  ...                  83.741                        1.90            76.88   \n",
       "3  ...                     NaN                         NaN            83.73   \n",
       "4  ...                  26.664                         NaN            61.15   \n",
       "\n",
       "   human_development_index      Country  English short name lower case  \\\n",
       "0                    0.511  Afghanistan                    Afghanistan   \n",
       "1                    0.795      Albania                        Albania   \n",
       "2                    0.748      Algeria                        Algeria   \n",
       "3                    0.868      Andorra                        Andorra   \n",
       "4                    0.581       Angola                         Angola   \n",
       "\n",
       "   Alpha-2 code  Alpha-3 code  Numeric code     ISO 3166-2  \n",
       "0            AF           AFG           4.0  ISO 3166-2:AF  \n",
       "1            AL           ALB           8.0  ISO 3166-2:AL  \n",
       "2            DZ           DZA          12.0  ISO 3166-2:DZ  \n",
       "3            AD           AND          20.0  ISO 3166-2:AD  \n",
       "4            AO           AGO          24.0  ISO 3166-2:AO  \n",
       "\n",
       "[5 rows x 63 columns]"
      ]
     },
     "execution_count": 31,
     "metadata": {},
     "output_type": "execute_result"
    }
   ],
   "source": [
    "isoDF['Country'] = isoDF['English short name lower case']\n",
    "covid_df = pd.read_csv('data/owid-covid-data.csv')\n",
    "covid_df['Country'] = covid_df['location']\n",
    "covid_df = covid_df.groupby(['location']).max()\n",
    "covid_df = pd.merge(covid_df, isoDF, how='left', on='Country')\n",
    "covid_df.head()"
   ]
  },
  {
   "cell_type": "code",
   "execution_count": 32,
   "metadata": {},
   "outputs": [
    {
     "data": {
      "text/html": [
       "<iframe\n",
       "    scrolling=\"no\"\n",
       "    width=\"100%\"\n",
       "    height=\"620\"\n",
       "    src=\"iframe_figures/figure_32.html\"\n",
       "    frameborder=\"0\"\n",
       "    allowfullscreen\n",
       "></iframe>\n"
      ]
     },
     "metadata": {},
     "output_type": "display_data"
    }
   ],
   "source": [
    "covid_df_bar = px.bar(covid_df.sort_values(\"total_cases\", ascending=False).head(30), x='Country', y='total_cases')\n",
    "covid_df_bar.show()"
   ]
  },
  {
   "cell_type": "code",
   "execution_count": 33,
   "metadata": {},
   "outputs": [
    {
     "data": {
      "text/html": [
       "<iframe\n",
       "    scrolling=\"no\"\n",
       "    width=\"100%\"\n",
       "    height=\"620\"\n",
       "    src=\"iframe_figures/figure_33.html\"\n",
       "    frameborder=\"0\"\n",
       "    allowfullscreen\n",
       "></iframe>\n"
      ]
     },
     "metadata": {},
     "output_type": "display_data"
    }
   ],
   "source": [
    "fig_covidCases = px.choropleth(covid_df, locations='Alpha-3 code', color = 'total_cases', hover_name='English short name lower case', color_continuous_scale='Plasma', \n",
    "                            range_color=(0, 1000000))\n",
    "fig_covidCases.show()"
   ]
  },
  {
   "cell_type": "markdown",
   "metadata": {},
   "source": [
    "### Face Masks\n",
    "Data: https://ourworldindata.org/grapher/face-covering-policies-covid"
   ]
  },
  {
   "cell_type": "code",
   "execution_count": 21,
   "metadata": {},
   "outputs": [
    {
     "data": {
      "text/html": [
       "<div>\n",
       "<style scoped>\n",
       "    .dataframe tbody tr th:only-of-type {\n",
       "        vertical-align: middle;\n",
       "    }\n",
       "\n",
       "    .dataframe tbody tr th {\n",
       "        vertical-align: top;\n",
       "    }\n",
       "\n",
       "    .dataframe thead th {\n",
       "        text-align: right;\n",
       "    }\n",
       "</style>\n",
       "<table border=\"1\" class=\"dataframe\">\n",
       "  <thead>\n",
       "    <tr style=\"text-align: right;\">\n",
       "      <th></th>\n",
       "      <th>Code</th>\n",
       "      <th>Day</th>\n",
       "      <th>facial_coverings</th>\n",
       "      <th>Country</th>\n",
       "    </tr>\n",
       "    <tr>\n",
       "      <th>Entity</th>\n",
       "      <th></th>\n",
       "      <th></th>\n",
       "      <th></th>\n",
       "      <th></th>\n",
       "    </tr>\n",
       "  </thead>\n",
       "  <tbody>\n",
       "    <tr>\n",
       "      <td>Afghanistan</td>\n",
       "      <td>AFG</td>\n",
       "      <td>2021-04-06</td>\n",
       "      <td>3</td>\n",
       "      <td>Afghanistan</td>\n",
       "    </tr>\n",
       "    <tr>\n",
       "      <td>Albania</td>\n",
       "      <td>ALB</td>\n",
       "      <td>2021-04-05</td>\n",
       "      <td>4</td>\n",
       "      <td>Albania</td>\n",
       "    </tr>\n",
       "    <tr>\n",
       "      <td>Algeria</td>\n",
       "      <td>DZA</td>\n",
       "      <td>2021-04-05</td>\n",
       "      <td>3</td>\n",
       "      <td>Algeria</td>\n",
       "    </tr>\n",
       "    <tr>\n",
       "      <td>Andorra</td>\n",
       "      <td>AND</td>\n",
       "      <td>2021-04-05</td>\n",
       "      <td>3</td>\n",
       "      <td>Andorra</td>\n",
       "    </tr>\n",
       "    <tr>\n",
       "      <td>Angola</td>\n",
       "      <td>AGO</td>\n",
       "      <td>2021-04-05</td>\n",
       "      <td>4</td>\n",
       "      <td>Angola</td>\n",
       "    </tr>\n",
       "  </tbody>\n",
       "</table>\n",
       "</div>"
      ],
      "text/plain": [
       "            Code         Day  facial_coverings      Country\n",
       "Entity                                                     \n",
       "Afghanistan  AFG  2021-04-06                 3  Afghanistan\n",
       "Albania      ALB  2021-04-05                 4      Albania\n",
       "Algeria      DZA  2021-04-05                 3      Algeria\n",
       "Andorra      AND  2021-04-05                 3      Andorra\n",
       "Angola       AGO  2021-04-05                 4       Angola"
      ]
     },
     "execution_count": 21,
     "metadata": {},
     "output_type": "execute_result"
    }
   ],
   "source": [
    "maskData = pd.read_csv('data/face-covering-policies-covid.csv')\n",
    "maskData['Country'] = maskData['Entity']\n",
    "maskData = maskData.groupby(['Entity']).max()\n",
    "maskData.head()"
   ]
  },
  {
   "cell_type": "code",
   "execution_count": 36,
   "metadata": {},
   "outputs": [
    {
     "data": {
      "text/html": [
       "<iframe\n",
       "    scrolling=\"no\"\n",
       "    width=\"100%\"\n",
       "    height=\"620\"\n",
       "    src=\"iframe_figures/figure_36.html\"\n",
       "    frameborder=\"0\"\n",
       "    allowfullscreen\n",
       "></iframe>\n"
      ]
     },
     "metadata": {},
     "output_type": "display_data"
    }
   ],
   "source": [
    "masks_bar = px.bar(maskData.sort_values(\"facial_coverings\", ascending=False).head(30), x='Country', y='facial_coverings')\n",
    "masks_bar.show()"
   ]
  },
  {
   "cell_type": "code",
   "execution_count": 22,
   "metadata": {},
   "outputs": [
    {
     "data": {
      "text/html": [
       "<iframe\n",
       "    scrolling=\"no\"\n",
       "    width=\"100%\"\n",
       "    height=\"620\"\n",
       "    src=\"iframe_figures/figure_22.html\"\n",
       "    frameborder=\"0\"\n",
       "    allowfullscreen\n",
       "></iframe>\n"
      ]
     },
     "metadata": {},
     "output_type": "display_data"
    }
   ],
   "source": [
    "fig_maskPolicy = px.choropleth(maskData, locations='Code', color = 'facial_coverings', hover_name='Country', color_continuous_scale='Plasma', \n",
    "                            range_color=(0, 5))\n",
    "fig_maskPolicy.show()"
   ]
  },
  {
   "cell_type": "markdown",
   "metadata": {},
   "source": [
    "## Check Correlation for Number of Cases and Population Density"
   ]
  },
  {
   "cell_type": "code",
   "execution_count": 34,
   "metadata": {},
   "outputs": [
    {
     "data": {
      "text/plain": [
       "<matplotlib.axes._subplots.AxesSubplot at 0x121c3c6d0b8>"
      ]
     },
     "execution_count": 34,
     "metadata": {},
     "output_type": "execute_result"
    },
    {
     "data": {
      "image/png": "[encoded data removed]",
      "text/plain": [
       "<Figure size 432x288 with 2 Axes>"
      ]
     },
     "metadata": {
      "needs_background": "light"
     },
     "output_type": "display_data"
    }
   ],
   "source": [
    "correlationDF = pd.merge(covid_df, pd.read_csv('data/population_by_country_2020.csv'), how='left', on='Country')\n",
    "correlationDF = correlationDF[['Country', 'total_cases', 'Density (P/Km)']]\n",
    "sns.heatmap(correlationDF.corr(), cmap=sns.diverging_palette(20, 220))"
   ]
  },
  {
   "cell_type": "markdown",
   "metadata": {},
   "source": [
    "# Find the Basic Reproduction Number for Novel Corona Virus\n",
    "\n",
    "How?\n",
    "\n",
    "The daily growth of cumulative number of infections is caculated using the natural LOG scale.\n",
    "\n",
    "Data: https://www.kaggle.com/fireballbyedimyrnmom/us-counties-covid-19-dataset"
   ]
  },
  {
   "cell_type": "code",
   "execution_count": 23,
   "metadata": {},
   "outputs": [
    {
     "name": "stdout",
     "output_type": "stream",
     "text": [
      "(1193105, 6)\n"
     ]
    },
    {
     "data": {
      "text/html": [
       "<div>\n",
       "<style scoped>\n",
       "    .dataframe tbody tr th:only-of-type {\n",
       "        vertical-align: middle;\n",
       "    }\n",
       "\n",
       "    .dataframe tbody tr th {\n",
       "        vertical-align: top;\n",
       "    }\n",
       "\n",
       "    .dataframe thead th {\n",
       "        text-align: right;\n",
       "    }\n",
       "</style>\n",
       "<table border=\"1\" class=\"dataframe\">\n",
       "  <thead>\n",
       "    <tr style=\"text-align: right;\">\n",
       "      <th></th>\n",
       "      <th>date</th>\n",
       "      <th>county</th>\n",
       "      <th>state</th>\n",
       "      <th>fips</th>\n",
       "      <th>cases</th>\n",
       "      <th>deaths</th>\n",
       "    </tr>\n",
       "  </thead>\n",
       "  <tbody>\n",
       "    <tr>\n",
       "      <td>0</td>\n",
       "      <td>2020-01-21</td>\n",
       "      <td>Snohomish</td>\n",
       "      <td>Washington</td>\n",
       "      <td>53061.0</td>\n",
       "      <td>1</td>\n",
       "      <td>0.0</td>\n",
       "    </tr>\n",
       "    <tr>\n",
       "      <td>1</td>\n",
       "      <td>2020-01-22</td>\n",
       "      <td>Snohomish</td>\n",
       "      <td>Washington</td>\n",
       "      <td>53061.0</td>\n",
       "      <td>1</td>\n",
       "      <td>0.0</td>\n",
       "    </tr>\n",
       "    <tr>\n",
       "      <td>2</td>\n",
       "      <td>2020-01-23</td>\n",
       "      <td>Snohomish</td>\n",
       "      <td>Washington</td>\n",
       "      <td>53061.0</td>\n",
       "      <td>1</td>\n",
       "      <td>0.0</td>\n",
       "    </tr>\n",
       "    <tr>\n",
       "      <td>3</td>\n",
       "      <td>2020-01-24</td>\n",
       "      <td>Cook</td>\n",
       "      <td>Illinois</td>\n",
       "      <td>17031.0</td>\n",
       "      <td>1</td>\n",
       "      <td>0.0</td>\n",
       "    </tr>\n",
       "    <tr>\n",
       "      <td>4</td>\n",
       "      <td>2020-01-24</td>\n",
       "      <td>Snohomish</td>\n",
       "      <td>Washington</td>\n",
       "      <td>53061.0</td>\n",
       "      <td>1</td>\n",
       "      <td>0.0</td>\n",
       "    </tr>\n",
       "  </tbody>\n",
       "</table>\n",
       "</div>"
      ],
      "text/plain": [
       "         date     county       state     fips  cases  deaths\n",
       "0  2020-01-21  Snohomish  Washington  53061.0      1     0.0\n",
       "1  2020-01-22  Snohomish  Washington  53061.0      1     0.0\n",
       "2  2020-01-23  Snohomish  Washington  53061.0      1     0.0\n",
       "3  2020-01-24       Cook    Illinois  17031.0      1     0.0\n",
       "4  2020-01-24  Snohomish  Washington  53061.0      1     0.0"
      ]
     },
     "execution_count": 23,
     "metadata": {},
     "output_type": "execute_result"
    }
   ],
   "source": [
    "covidData = pd.read_csv('data/us-counties.csv')\n",
    "print(covidData.shape)\n",
    "covidData.head()"
   ]
  },
  {
   "cell_type": "markdown",
   "metadata": {},
   "source": [
    "We will the reproductive number for Europe as in Europe there are many developed countries"
   ]
  },
  {
   "cell_type": "code",
   "execution_count": 24,
   "metadata": {},
   "outputs": [
    {
     "data": {
      "text/html": [
       "<iframe\n",
       "    scrolling=\"no\"\n",
       "    width=\"100%\"\n",
       "    height=\"620\"\n",
       "    src=\"iframe_figures/figure_24.html\"\n",
       "    frameborder=\"0\"\n",
       "    allowfullscreen\n",
       "></iframe>\n"
      ]
     },
     "metadata": {},
     "output_type": "display_data"
    }
   ],
   "source": [
    "x = []\n",
    "y = []\n",
    "total = 0\n",
    "\n",
    "for date in covidData['date'].unique().tolist():\n",
    "    x.append(date)\n",
    "    y.append(covidData[covidData['date'] == date]['cases'].sum())\n",
    "    \n",
    "cumDataEurope = pd.DataFrame({'date':x,'cases':y})\n",
    "cumDataEurope['date'] = pd.to_datetime(cumDataEurope['date'])\n",
    "cumDataEurope = cumDataEurope.sort_values('date')\n",
    "    \n",
    "casesFig = px.bar(cumDataEurope, x='date', y='cases', title = 'Total Cases USA')\n",
    "casesFig.show()"
   ]
  },
  {
   "cell_type": "markdown",
   "metadata": {},
   "source": [
    "We can see December 2020 to Jan 2021 has the highest increase rate therefore we will data from that.\n",
    "\n",
    "Covid-19 will show symptoms after 14 days therefore, Nov 10th infection numbers will show up Nov 24th."
   ]
  },
  {
   "cell_type": "code",
   "execution_count": 25,
   "metadata": {},
   "outputs": [
    {
     "name": "stdout",
     "output_type": "stream",
     "text": [
      "New cases Nov  4th : 108080\n",
      "New cases Nov 18th : 172283\n",
      "108080 people gave covid-19 to 172283 people\n"
     ]
    }
   ],
   "source": [
    "nov10 = covidData[covidData['date'] == '2020-11-04']['cases'].sum() - covidData[covidData['date'] == '2020-11-03']['cases'].sum()\n",
    "nov24 = covidData[covidData['date'] == '2020-11-18']['cases'].sum() - covidData[covidData['date'] == '2020-11-17']['cases'].sum()\n",
    "print(\"New cases Nov  4th : \" + str(nov10))\n",
    "print(\"New cases Nov 18th : \" + str(nov24))\n",
    "print(str(nov10) + \" people gave covid-19 to \" + str(nov24) + ' people')"
   ]
  },
  {
   "cell_type": "markdown",
   "metadata": {},
   "source": [
    "With restrictions imposed covid-19 has 1.7 times its infections.\n",
    "\n",
    "The actual Basic Reprodcution Number is **2.2** which our data with restrictions have shown."
   ]
  },
  {
   "cell_type": "markdown",
   "metadata": {},
   "source": [
    "## Visualise Reproduction with Infection Numbers For Hypothetical situation"
   ]
  },
  {
   "cell_type": "code",
   "execution_count": 26,
   "metadata": {},
   "outputs": [
    {
     "data": {
      "text/html": [
       "<iframe\n",
       "    scrolling=\"no\"\n",
       "    width=\"100%\"\n",
       "    height=\"620\"\n",
       "    src=\"iframe_figures/figure_26.html\"\n",
       "    frameborder=\"0\"\n",
       "    allowfullscreen\n",
       "></iframe>\n"
      ]
     },
     "metadata": {},
     "output_type": "display_data"
    }
   ],
   "source": [
    "x = []\n",
    "y = []\n",
    "t = []\n",
    "stages = 11\n",
    "prev = 0\n",
    "deathRate = 0.02\n",
    "\n",
    "for i in range(stages):\n",
    "    x.append(i)\n",
    "    x.append(i)\n",
    "    if i == 0:\n",
    "        y.append(i+1)\n",
    "        t.append('infection')\n",
    "        y.append(0)\n",
    "        t.append('infection')\n",
    "        prev = i+1\n",
    "    else:\n",
    "        prev = 2 * prev\n",
    "        y.append(prev)\n",
    "        t.append('infection')\n",
    "        y.append(int(prev * deathRate))\n",
    "        t.append('death')\n",
    "\n",
    "reproductionNum = pd.DataFrame({\n",
    "    'x':x,\n",
    "    'y':y,\n",
    "    'type': t\n",
    "})\n",
    "\n",
    "reproductionNumFig = px.line(reproductionNum, x='x', y='y', color='type', title = 'Rproduction of Covid-19')\n",
    "reproductionNumFig.show()"
   ]
  },
  {
   "cell_type": "code",
   "execution_count": 27,
   "metadata": {},
   "outputs": [
    {
     "name": "stdout",
     "output_type": "stream",
     "text": [
      "Infections :  2046\n",
      "Deaths :  38\n"
     ]
    }
   ],
   "source": [
    "print(\"Infections : \", reproductionNum[reproductionNum['type'] == 'infection']['y'].sum()-1)\n",
    "print(\"Deaths : \", reproductionNum[reproductionNum['type'] == 'death']['y'].sum())"
   ]
  }
 ],
 "metadata": {
  "kernelspec": {
   "display_name": "Python 3.7.3 64-bit ('Tensorflow2': conda)",
   "language": "python",
   "name": "python37364bittensorflow2conda366007bebd6145e889dc22f0db6fe8ac"
  },
  "language_info": {
   "codemirror_mode": {
    "name": "ipython",
    "version": 3
   },
   "file_extension": ".py",
   "mimetype": "text/x-python",
   "name": "python",
   "nbconvert_exporter": "python",
   "pygments_lexer": "ipython3",
   "version": "3.7.3"
  }
 },
 "nbformat": 4,
 "nbformat_minor": 2
}
